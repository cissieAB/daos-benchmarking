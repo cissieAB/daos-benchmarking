{
 "cells": [
  {
   "cell_type": "code",
   "execution_count": null,
   "id": "62fa7327",
   "metadata": {},
   "outputs": [],
   "source": [
    "%pip install -q matplotlib \n",
    "%pip install -q seaborn\n",
    "%pip install -q pandas\n",
    "%pip install -q numpy"
   ]
  },
  {
   "cell_type": "code",
   "execution_count": 2,
   "id": "def2e2e0",
   "metadata": {},
   "outputs": [],
   "source": [
    "import matplotlib.pyplot as plt \n",
    "import matplotlib.patheffects as pe\n",
    "import matplotlib.colors as mcolors\n",
    "import seaborn as sns\n",
    "import pandas as pd\n",
    "import numpy as np\n",
    "import os "
   ]
  },
  {
   "cell_type": "code",
   "execution_count": 18,
   "id": "a1f64737",
   "metadata": {},
   "outputs": [],
   "source": [
    "ior_results_dirs = [\n",
    "    'ior_results_n-1_seg-1_20250904',\n",
    "    'ior_results_n-1_seg-6_20250904',\n",
    "    'ior_results_n-2_seg-1_20250904'\n",
    "]\n",
    "\n",
    "# for each csv in each dir\n",
    "# take the highest bandwidth row\n",
    "df = pd.DataFrame()\n",
    "for dir in ior_results_dirs:\n",
    "    for file_name in os.listdir(dir):\n",
    "        if file_name.endswith('.csv'): \n",
    "            file = os.path.join(dir, file_name)\n",
    "            tmp = pd.read_csv(file)\n",
    "            tmp = (tmp.iloc[tmp.idxmax(numeric_only=True)['bw(MiB/s)']].to_frame().T)\n",
    "            tmp['fromCSV'] = file_name\n",
    "            df = pd.concat([df,tmp], ignore_index=True)\n",
    "\n",
    "df.to_csv('ior_results.csv')"
   ]
  },
  {
   "cell_type": "code",
   "execution_count": null,
   "id": "3de08dd0",
   "metadata": {},
   "outputs": [],
   "source": []
  }
 ],
 "metadata": {
  "kernelspec": {
   "display_name": "pyenv (3.12.3)",
   "language": "python",
   "name": "python3"
  },
  "language_info": {
   "codemirror_mode": {
    "name": "ipython",
    "version": 3
   },
   "file_extension": ".py",
   "mimetype": "text/x-python",
   "name": "python",
   "nbconvert_exporter": "python",
   "pygments_lexer": "ipython3",
   "version": "3.12.3"
  }
 },
 "nbformat": 4,
 "nbformat_minor": 5
}
